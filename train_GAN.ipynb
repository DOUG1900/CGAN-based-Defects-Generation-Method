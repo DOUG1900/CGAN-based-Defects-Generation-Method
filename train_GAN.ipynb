{
 "cells": [
  {
   "cell_type": "code",
   "execution_count": 1,
   "metadata": {},
   "outputs": [],
   "source": [
    "import tensorflow as tf\n",
    "import os\n",
    "import glob\n",
    "import cv2\n",
    "import numpy as np\n",
    "import pandas as pd\n",
    "import random"
   ]
  },
  {
   "cell_type": "code",
   "execution_count": 11,
   "metadata": {},
   "outputs": [],
   "source": [
    "EPS = 1e-12\n",
    "\n",
    "train_picture_path = './/dataset2//train//0.normal//'\n",
    "label_picture_path = './/dataset2//train//1.abnormal//'\n",
    "train_save_path = './/train_save//'\n",
    "model_save_path = './save_model/'\n",
    "test_picture_path = './dataset2/train/0.normal/'\n",
    "test_save_path = './test_save/'\n",
    "\n",
    "train_picture_list = glob.glob(os.path.join(train_picture_path, \"*\"))\n",
    "label_picture_list = glob.glob(os.path.join(label_picture_path, \"*\"))"
   ]
  },
  {
   "cell_type": "code",
   "execution_count": 3,
   "metadata": {},
   "outputs": [],
   "source": [
    "def batch_norm(inp,name=\"batch_norm\"):\n",
    "    batch_norm_fi = tf.keras.layers.BatchNormalization()(inp, training=True)\n",
    "    return batch_norm_fi\n",
    "\n",
    "def lrelu(x, leak=0.2, name = \"lrelu\"):\n",
    "    return tf.maximum(x, leak*x)\n",
    "\n",
    "def l1_loss(src, dst):\n",
    "    return tf.reduce_mean(tf.abs(src - dst))"
   ]
  },
  {
   "cell_type": "code",
   "execution_count": 4,
   "metadata": {},
   "outputs": [],
   "source": [
    "gen_input = tf.keras.Input(shape=(256,256,3), name='train_img')\n",
    "c1 = tf.keras.layers.Conv2D(filters=64,kernel_size=4,strides=2,padding='same',input_shape=[256,256,3])(gen_input)\n",
    "b1 = batch_norm(c1)\n",
    "#[1,128,128,64]\n",
    "c2 = tf.keras.layers.Conv2D(filters=128,kernel_size=4,strides=2,padding='same',use_bias=False)(lrelu(b1))\n",
    "b2 = batch_norm(c2)\n",
    "#[1,64,64,256]\n",
    "c3 = tf.keras.layers.Conv2D(filters=256,kernel_size=4,strides=2,padding='same',use_bias=False)(lrelu(b2))\n",
    "b3 = batch_norm(c3)\n",
    "#[1,32,32,256]\n",
    "c4 = tf.keras.layers.Conv2D(filters=512,kernel_size=4,strides=2,padding='same',use_bias=False)(lrelu(b3))\n",
    "b4 = batch_norm(c4)\n",
    "#[1,16,16,512]\n",
    "c5 = tf.keras.layers.Conv2D(filters=512,kernel_size=4,strides=2,padding='same',use_bias=False)(lrelu(b4))\n",
    "b5 = batch_norm(c5)\n",
    "#[1,8,8,512]\n",
    "c6 = tf.keras.layers.Conv2D(filters=512,kernel_size=4,strides=2,padding='same',use_bias=False)(lrelu(b5))\n",
    "b6 = batch_norm(c6)\n",
    "#[1,4,4,512]\n",
    "c7 = tf.keras.layers.Conv2D(filters=512,kernel_size=4,strides=2,padding='same',use_bias=False)(lrelu(b6))\n",
    "b7 = batch_norm(c7)\n",
    "#[1,2,2,512]\n",
    "c8 = tf.keras.layers.Conv2D(filters=512,kernel_size=4,strides=2,padding='same',use_bias=False)(lrelu(b7))\n",
    "b8 = batch_norm(c8)\n",
    "#[1,1,1,512]\n",
    "\n",
    "d1 = tf.keras.layers.Conv2DTranspose(512,kernel_size=4,strides=2,padding='same',use_bias=False)(b8)\n",
    "d1 = tf.nn.dropout(d1, 0.5)\n",
    "d1 = tf.concat([batch_norm(d1, name='g_bn_d1'), b7],3)\n",
    "#[1,2,2,512]\n",
    "d2 = tf.keras.layers.Conv2DTranspose(512,kernel_size=4,strides=2,padding='same',use_bias=False)(tf.nn.relu(d1))\n",
    "d2 = tf.nn.dropout(d2, 0.5)\n",
    "d2 = tf.concat([batch_norm(d2, name='g_bn_d2'), b6],3)\n",
    "#[1,4,4,512]\n",
    "d3 = tf.keras.layers.Conv2DTranspose(512,kernel_size=4,strides=2,padding='same',use_bias=False)(tf.nn.relu(d2))\n",
    "d3 = tf.nn.dropout(d3, 0.5)\n",
    "d3 = tf.concat([batch_norm(d3, name='g_bn_d3'), b5],3)\n",
    "#[1,8.8.512]\n",
    "d4 = tf.keras.layers.Conv2DTranspose(512,kernel_size=4,strides=2,padding='same',use_bias=False)(tf.nn.relu(d3))\n",
    "d4 = tf.concat([batch_norm(d4, name='g_bn_d4'), b4],3)\n",
    "#[1,16,16,512]\n",
    "d5 = tf.keras.layers.Conv2DTranspose(256,kernel_size=4,strides=2,padding='same',use_bias=False)(tf.nn.relu(d4))\n",
    "d5 = tf.concat([batch_norm(d5, name='g_bn_d5'), b3],3)\n",
    "#[1,32,32,256]\n",
    "d6 = tf.keras.layers.Conv2DTranspose(128,kernel_size=4,strides=2,padding='same',use_bias=False)(tf.nn.relu(d5))\n",
    "d6 = tf.concat([batch_norm(d6, name='g_bn_d6'), b2],3)\n",
    "#[1,64,64,128]\n",
    "d7 = tf.keras.layers.Conv2DTranspose(64,kernel_size=4,strides=2,padding='same',use_bias=False)(tf.nn.relu(d6))\n",
    "d7 = tf.concat([batch_norm(d7, name='g_bn_d7'), b1],3)\n",
    "#[1,128,128,64]\n",
    "d8 = tf.keras.layers.Conv2DTranspose(3,kernel_size=4,strides=2,padding='same',use_bias=False)(tf.nn.relu(d7))\n",
    "gen_out = tf.nn.tanh(d8)\n",
    "#[1.256,256,3]\n",
    "gen_model = tf.keras.Model(inputs=gen_input, outputs=gen_out, name='gen_model')\n",
    "\n",
    "dis_input = tf.keras.Input(shape=(256,256,6), name='train_img')\n",
    "h1 = tf.keras.layers.Conv2D(64,(4,4),strides=(2,2),padding='same',input_shape=[256,256,3])(dis_input)\n",
    "h1 = lrelu(h1)\n",
    "#1*128*128*64\n",
    "h2 = tf.keras.layers.Conv2D(128,(4,4),strides=(2,2),padding='same',use_bias=False)(h1)\n",
    "h2 = batch_norm(h2)\n",
    "h2 = lrelu(h2)\n",
    "#1*64*64*128\n",
    "h3 = tf.keras.layers.Conv2D(256,(4,4),strides=(2,2),padding='same',use_bias=False)(h2)\n",
    "h3 = batch_norm(h3)\n",
    "h3 = lrelu(h3)\n",
    "#1*32*32*256\n",
    "h4 = tf.keras.layers.Conv2D(512,(4,4),strides=(1,1),padding='same',use_bias=False)(h3)\n",
    "h4 = batch_norm(h4)\n",
    "h4 = lrelu(h4)\n",
    "#1*32*32*512\n",
    "output = tf.keras.layers.Conv2D(1,(4,4),strides=(1,1),padding='same',use_bias=False)(h4)\n",
    "#1*32*32*1\n",
    "dis_out = tf.sigmoid(output)\n",
    "dis_model = tf.keras.Model(inputs=dis_input, outputs=dis_out, name='dis_model')\n",
    "\n",
    "discriminator_optimizer = tf.keras.optimizers.Adam(2*1e-4)#自适应学习率优化算法\n",
    "generator_optimizer = tf.keras.optimizers.Adam(2*1e-4)"
   ]
  },
  {
   "cell_type": "code",
   "execution_count": 10,
   "metadata": {},
   "outputs": [],
   "source": [
    "cls_input = tf.keras.Input(shape=(256,256,6), name='train_img')\n",
    "h1 = tf.keras.layers.Conv2D(64,(4,4),strides=(2,2),padding='same',input_shape=[256,256,3])(cls_input)\n",
    "h1 = lrelu(h1)\n",
    "h1 = tf.keras.layers.MaxPooling2D(2,2)(h1)\n",
    "#1*128*128*64\n",
    "h2 = tf.keras.layers.Conv2D(128,(4,4),strides=(2,2),padding='same',use_bias=False)(h1)\n",
    "h2 = batch_norm(h2)\n",
    "h2 = lrelu(h2)\n",
    "h2 = tf.keras.layers.MaxPooling2D(2,2)(h2)\n",
    "#1*64*64*128\n",
    "h3 = tf.keras.layers.Conv2D(256,(4,4),strides=(2,2),padding='same',use_bias=False)(h2)\n",
    "h3 = batch_norm(h3)\n",
    "h3 = lrelu(h3)\n",
    "h3 = tf.keras.layers.MaxPooling2D(2,2)(h3)\n",
    "#1*32*32*256\n",
    "h4 = tf.keras.layers.Conv2D(512,(4,4),strides=(1,1),padding='same',use_bias=False)(h3)\n",
    "h4 = batch_norm(h4)\n",
    "h4 = lrelu(h4)\n",
    "h4 = tf.keras.layers.MaxPooling2D(2,2)(h4)\n",
    "#1*32*32*512\n",
    "h5 = tf.keras.layers.Flatten()(h4)\n",
    "h5 = tf.keras.layers.Dense(128, activation='relu')(h5)\n",
    "cls_out = tf.keras.layers.Dense(10, activation='sigmoid')(h5)\n",
    "#output = tf.keras.layers.Conv2D(1,(4,4),strides=(1,1),padding='same',use_bias=False)(h5)\n",
    "#1*32*32*1\n",
    "# cls_out = tf.sigmoid(output)\n",
    "cls_model = tf.keras.Model(inputs=cls_input, outputs=cls_out, name='dis_model')\n",
    "\n",
    "classifier_optimizer = tf.keras.optimizers.Adam(2*1e-4)#自适应学习率优化算法"
   ]
  },
  {
   "cell_type": "code",
   "execution_count": 5,
   "metadata": {},
   "outputs": [],
   "source": [
    "def train_step(batch_picture,batch_label,count):\n",
    "    with tf.GradientTape() as gen_tape, tf.GradientTape() as disc_tape:\n",
    "        gen_label = gen_model(batch_picture)\n",
    "        dis_real = dis_model(tf.concat([batch_picture, batch_label], 3))\n",
    "        dis_fake = dis_model(tf.concat([batch_picture, gen_label], 3))\n",
    "        gen_loss_L1 = tf.reduce_mean(l1_loss(gen_label, batch_label))\n",
    "        gen_loss = tf.reduce_mean(-tf.math.log(dis_fake + EPS)) + 100 * gen_loss_L1\n",
    "        #+ 1*tf.reduce_mean(l1_loss(gen_label, batch_label))\n",
    "        dis_loss = tf.reduce_mean(-(tf.math.log(dis_real + EPS) + tf.math.log(1 - dis_fake + EPS)))\n",
    "        \n",
    "    gradients_of_generator = gen_tape.gradient(gen_loss, gen_model.trainable_variables)\n",
    "    gradients_of_discriminator = disc_tape.gradient(dis_loss, dis_model.trainable_variables)\n",
    "\n",
    "    discriminator_optimizer.apply_gradients(zip(gradients_of_discriminator, dis_model.trainable_variables))\n",
    "    generator_optimizer.apply_gradients(zip(gradients_of_generator, gen_model.trainable_variables))\n",
    "    \n",
    "    return gen_loss,dis_loss,gen_label"
   ]
  },
  {
   "cell_type": "code",
   "execution_count": 6,
   "metadata": {},
   "outputs": [],
   "source": [
    "def evaluate(runstep,test_picture_path,test_save_path):\n",
    "    gen_model.load_weights(model_save_path)\n",
    "    test_picture_list = glob.glob(os.path.join(test_picture_path, \"*\"))\n",
    "    for step in range(len(test_picture_list)):\n",
    "        testimg_path = test_picture_list[step]\n",
    "        pic_name, _ = os.path.splitext(os.path.basename(testimg_path))\n",
    "        picture =  cv2.imread(testimg_path)\n",
    "        height = picture.shape[0] #得到图片的高\n",
    "        width = picture.shape[1] #得到图片的宽\n",
    "        picture_resize_t = cv2.resize(picture, (256, 256))\n",
    "        picture_resize = picture_resize_t / 127.5 - 1.\n",
    "        batch_picture = np.expand_dims(np.array(picture_resize).astype(np.float32), axis = 0)\n",
    "        gen_label = gen_model(batch_picture)\n",
    "        out_img = (gen_label[0] + 1.) * 127.5\n",
    "        out_img = out_img.numpy()\n",
    "        out_img = cv2.resize(out_img, (width, height))\n",
    "        write_image_name = test_save_path + str(runstep) + '_' + str(step) + \".jpg\"\n",
    "        #write_image_name = test_save_path + pic_name + \".png\"\n",
    "        cv2.imwrite(write_image_name, out_img)\n",
    "        print(step)"
   ]
  },
  {
   "cell_type": "code",
   "execution_count": 7,
   "metadata": {},
   "outputs": [],
   "source": [
    "def train():\n",
    "    gen_ls = []\n",
    "    dis_ls = []\n",
    "    counter = 0\n",
    "    gen_model.load_weights(model_save_path)\n",
    "    for epoch in range(0,100):\n",
    "        random.shuffle(train_picture_list)\n",
    "        for step in range(len(train_picture_list)):\n",
    "            counter += 1\n",
    "            img_path = train_picture_list[step]\n",
    "            pic_name, _ = os.path.splitext(os.path.basename(img_path))\n",
    "            label_path = label_picture_path + pic_name + '.jpg'\n",
    "            picture =  cv2.imread(img_path)\n",
    "            label =  cv2.imread(label_path)\n",
    "            height = picture.shape[0] #得到图片的高\n",
    "            width = picture.shape[1] #得到图片的宽\n",
    "            picture_resize_t = cv2.resize(picture, (256, 256))\n",
    "            picture_resize = picture_resize_t / 127.5 - 1.\n",
    "            label_resize_t = cv2.resize(label, (256, 256))\n",
    "            label_resize = label_resize_t / 127.5 - 1.\n",
    "            batch_picture = np.expand_dims(np.array(picture_resize).astype(np.float32), axis = 0)\n",
    "            batch_label = np.expand_dims(np.array(label_resize).astype(np.float32), axis = 0)\n",
    "            gen_loss,dis_loss,gen_label = train_step(batch_picture,batch_label,counter) \n",
    "            gen_ls.append(gen_loss)\n",
    "            dis_ls.append(dis_loss)\n",
    "            if counter % 500 == 0:\n",
    "                runstep,test_picture_path,test_save_path(counter)\n",
    "                gen_model.save_weights(model_save_path)\n",
    "            if counter % 100 == 0:\n",
    "                out_img = (gen_label[0] + 1.) * 127.5\n",
    "                out_img = out_img.numpy() \n",
    "                out_img = cv2.resize(out_img, (width, height))\n",
    "                #save_img = np.concatenate((picture_resize_t,out_img,label_resize_t), axis=1)\n",
    "                write_image_name = train_save_path + str(counter) + \".jpg\"\n",
    "                cv2.imwrite(write_image_name, out_img)\n",
    "            gen_model.save_weights(model_save_path)\n",
    "            print('epoch {:d} step {:d} \\t gen_loss = {:.3f}, dis_loss = {:.3f}'.format(epoch, step, gen_loss, dis_loss))\n",
    "    return gen_ls, dis_ls\n"
   ]
  },
   ],
   "source": [
    "gen_loss,dis_loss = train()"
   ]
  },
  {
   "cell_type": "code",
   "execution_count": 50,
   "metadata": {},
   "outputs": [
    {
     "data": {
      "text/plain": [
       "True"
      ]
     },
     "execution_count": 50,
     "metadata": {},
     "output_type": "execute_result"
    }
   ],
   "source": [
    "picture =  cv2.imread('3.jpg')\n",
    "gen_model.load_weights(model_save_path)\n",
    "height = picture.shape[0] #height\n",
    "width = picture.shape[1] # width\n",
    "picture_resize_t = cv2.resize(picture, (256, 256))\n",
    "picture_resize = picture_resize_t / 127.5 - 1.\n",
    "batch_picture = np.expand_dims(np.array(picture_resize).astype(np.float32), axis = 0)\n",
    "gen_label = gen_model(batch_picture)\n",
    "out_img = (gen_label[0] + 1.) * 127.5\n",
    "out_img = out_img.numpy()\n",
    "out_img = cv2.resize(out_img, (width, height))\n",
    "cv2.imwrite('result3.jpg',out_img)"
   ]
  },
  {
   "cell_type": "code",
   "execution_count": 45,
   "metadata": {},
   "outputs": [],
   "source": [
    "import matplotlib.pyplot as plt"
   ]
  },
  {
   "cell_type": "code",
   "execution_count": 46,
   "metadata": {},
   "outputs": [
    {
     "data": {
      "image/png": "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\n",
      "text/plain": [
       "<Figure size 432x288 with 1 Axes>"
      ]
     },
     "metadata": {
      "needs_background": "light"
     },
     "output_type": "display_data"
    }
   ],
   "source": [
    "plt.plot(dis_loss)\n",
    "plt.show()"
   ]
  },
  {
   "cell_type": "code",
   "execution_count": 8,
   "metadata": {},
   "outputs": [],
   "source": []
  },
  {
   "cell_type": "code",
   "execution_count": null,
   "metadata": {},
   "outputs": [],
   "source": []
  }
 ],
 "metadata": {
  "kernelspec": {
   "display_name": "Python 3",
   "language": "python",
   "name": "python3"
  },
  "language_info": {
   "codemirror_mode": {
    "name": "ipython",
    "version": 3
   },
   "file_extension": ".py",
   "mimetype": "text/x-python",
   "name": "python",
   "nbconvert_exporter": "python",
   "pygments_lexer": "ipython3",
   "version": "3.8.8"
  }
 },
 "nbformat": 4,
 "nbformat_minor": 2
}
